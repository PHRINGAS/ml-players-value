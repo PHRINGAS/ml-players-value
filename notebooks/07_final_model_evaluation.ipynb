{
 "cells": [
  {
   "cell_type": "code",
   "execution_count": 1,
   "id": "c4a430b0",
   "metadata": {},
   "outputs": [],
   "source": [
    "import pandas as pd\n",
    "import numpy as np\n",
    "import lightgbm as lgb\n",
    "import joblib\n",
    "from sklearn.model_selection import train_test_split\n",
    "from sklearn.metrics import mean_absolute_error"
   ]
  },
  {
   "cell_type": "code",
   "execution_count": 2,
   "id": "f52e4244",
   "metadata": {},
   "outputs": [
    {
     "name": "stdout",
     "output_type": "stream",
     "text": [
      "Dataset final con features contextuales cargado. Dimensiones: (6280, 27)\n"
     ]
    }
   ],
   "source": [
    "# --- Cargar el dataset FINAL con features contextuales ---\n",
    "DATA_PATH = '../data/processed/contextual_featured_dataset.csv'\n",
    "df = pd.read_csv(DATA_PATH)\n",
    "\n",
    "print(\"Dataset final con features contextuales cargado. Dimensiones:\", df.shape)"
   ]
  },
  {
   "cell_type": "code",
   "execution_count": 3,
   "id": "dc5439f5",
   "metadata": {},
   "outputs": [
    {
     "name": "stdout",
     "output_type": "stream",
     "text": [
      "\n",
      "Número de features para el modelo final: 9\n",
      "Features: ['age', 'height_in_cm', 'minutes_per_90', 'goals_per_90', 'assists_per_90', 'goals_plus_assists_per_90', 'contract_months_remaining', 'league_strength_factor', 'club_tier']\n"
     ]
    }
   ],
   "source": [
    "# --- Definir Features (X) y Target (y) ---\n",
    "# Ahora incluimos nuestras nuevas features: 'league_strength_factor' y 'club_tier'\n",
    "TARGET = 'market_value_in_eur'\n",
    "cols_to_exclude = [\n",
    "    'player_id', TARGET, 'goals', 'assists', 'minutes_played', 'games_played',\n",
    "    'name', 'position', 'sub_position', 'country_of_citizenship', \n",
    "    'current_club_name', 'contract_expiration_date', 'valuation_date',\n",
    "    'player_club_domestic_competition_id', 'competition_code', 'competition_name' # Columnas intermedias\n",
    "]\n",
    "\n",
    "features = [col for col in df.columns if col not in cols_to_exclude]\n",
    "X = df[features].select_dtypes(include=np.number)\n",
    "y_log = np.log1p(df[TARGET])\n",
    "\n",
    "print(f\"\\nNúmero de features para el modelo final: {len(X.columns)}\")\n",
    "print(\"Features:\", X.columns.tolist())\n"
   ]
  },
  {
   "cell_type": "code",
   "execution_count": 4,
   "id": "7cd01398",
   "metadata": {},
   "outputs": [],
   "source": [
    "# --- Cargar los mejores hiperparámetros que encontramos ---\n",
    "best_params_300 = {\n",
    "    'learning_rate': 0.1963845368531851, 'num_leaves': 226, 'max_depth': 3,\n",
    "    'min_child_samples': 10, 'feature_fraction': 0.5368246241854336,\n",
    "    'bagging_fraction': 0.9625685216118971, 'bagging_freq': 4,\n",
    "    'lambda_l1': 2.52157740846641, 'lambda_l2': 0.04049748399375717,\n",
    "    'objective': 'regression_l1', 'metric': 'mae', 'n_estimators': 2000,\n",
    "    'verbose': -1, 'n_jobs': -1, 'seed': 42\n",
    "}"
   ]
  },
  {
   "cell_type": "code",
   "execution_count": 5,
   "id": "3d7675b4",
   "metadata": {},
   "outputs": [
    {
     "name": "stdout",
     "output_type": "stream",
     "text": [
      "\n",
      "Entrenando modelo final con features contextuales...\n",
      "Entrenamiento completado.\n"
     ]
    }
   ],
   "source": [
    "# --- Entrenar y Evaluar el Modelo FINAL ---\n",
    "X_train, X_test, y_train_log, y_test_log = train_test_split(X, y_log, test_size=0.2, random_state=42)\n",
    "\n",
    "final_model = lgb.LGBMRegressor(**best_params_300)\n",
    "\n",
    "print(\"\\nEntrenando modelo final con features contextuales...\")\n",
    "final_model.fit(X_train, y_train_log,\n",
    "                eval_set=[(X_test, y_test_log)],\n",
    "                eval_metric='mae',\n",
    "                callbacks=[lgb.early_stopping(100, verbose=False)])\n",
    "\n",
    "print(\"Entrenamiento completado.\")"
   ]
  },
  {
   "cell_type": "code",
   "execution_count": 6,
   "id": "9a534d9c",
   "metadata": {},
   "outputs": [
    {
     "name": "stdout",
     "output_type": "stream",
     "text": [
      "\n",
      "--- ¡RESULTADOS FINALES DEFINITIVOS! ---\n",
      "MAE Modelo Anterior (Optimizado): €3,224,641\n",
      "MAE Modelo FINAL (con Contexto):  €2,921,504\n",
      "\n",
      "--- Conclusión Final del Modelado ---\n",
      "¡MEJORA MASIVA! El modelo con contexto es €303,137 más preciso.\n",
      "Esto representa una reducción adicional del error del 9.40%.\n"
     ]
    }
   ],
   "source": [
    "# --- Evaluación Final ---\n",
    "preds_log = final_model.predict(X_test)\n",
    "y_test_eur = np.expm1(y_test_log)\n",
    "preds_eur = np.expm1(preds_log)\n",
    "\n",
    "mae_final = mean_absolute_error(y_test_eur, preds_eur)\n",
    "mae_anterior_optimizado = 3224641\n",
    "\n",
    "print(\"\\n--- ¡RESULTADOS FINALES DEFINITIVOS! ---\")\n",
    "print(f\"MAE Modelo Anterior (Optimizado): €{mae_anterior_optimizado:,.0f}\")\n",
    "print(f\"MAE Modelo FINAL (con Contexto):  €{mae_final:,.0f}\")\n",
    "\n",
    "improvement = mae_anterior_optimizado - mae_final\n",
    "improvement_percent = (improvement / mae_anterior_optimizado) * 100\n",
    "\n",
    "print(\"\\n--- Conclusión Final del Modelado ---\")\n",
    "if improvement > 0:\n",
    "    print(f\"¡MEJORA MASIVA! El modelo con contexto es €{improvement:,.0f} más preciso.\")\n",
    "    print(f\"Esto representa una reducción adicional del error del {improvement_percent:.2f}%.\")\n",
    "else:\n",
    "    print(f\"No se ha conseguido una mejora. El contexto no ha ayudado como se esperaba.\")"
   ]
  },
  {
   "cell_type": "code",
   "execution_count": 7,
   "id": "8c2e8322",
   "metadata": {},
   "outputs": [
    {
     "name": "stdout",
     "output_type": "stream",
     "text": [
      "Modelo final guardado en: ../models/lgbm_final_context_model.pkl\n",
      "Columnas del modelo guardadas en: ../models/model_columns.json\n"
     ]
    }
   ],
   "source": [
    "# =============================================================================\n",
    "# Guardar el Modelo FINAL y sus Columnas\n",
    "# =============================================================================\n",
    "import joblib\n",
    "import json\n",
    "\n",
    "# Guardar el objeto del modelo\n",
    "MODEL_PATH = '../models/lgbm_final_context_model.pkl'\n",
    "joblib.dump(final_model, MODEL_PATH)\n",
    "print(f\"Modelo final guardado en: {MODEL_PATH}\")\n",
    "\n",
    "# Guardar la lista de columnas que el modelo espera, en el orden correcto\n",
    "# Esto es CRUCIAL para la producción\n",
    "COLUMNS_PATH = '../models/model_columns.json'\n",
    "with open(COLUMNS_PATH, 'w') as f:\n",
    "    json.dump(X_train.columns.tolist(), f)\n",
    "print(f\"Columnas del modelo guardadas en: {COLUMNS_PATH}\")"
   ]
  }
 ],
 "metadata": {
  "kernelspec": {
   "display_name": "venv",
   "language": "python",
   "name": "python3"
  },
  "language_info": {
   "codemirror_mode": {
    "name": "ipython",
    "version": 3
   },
   "file_extension": ".py",
   "mimetype": "text/x-python",
   "name": "python",
   "nbconvert_exporter": "python",
   "pygments_lexer": "ipython3",
   "version": "3.12.6"
  }
 },
 "nbformat": 4,
 "nbformat_minor": 5
}
