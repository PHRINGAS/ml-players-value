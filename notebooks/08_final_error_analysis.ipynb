{
 "cells": [
  {
   "cell_type": "code",
   "execution_count": 4,
   "id": "b43e9ff6",
   "metadata": {},
   "outputs": [],
   "source": [
    "import pandas as pd\n",
    "import numpy as np\n",
    "import joblib\n",
    "import json"
   ]
  },
  {
   "cell_type": "code",
   "execution_count": 5,
   "id": "814c8fb9",
   "metadata": {},
   "outputs": [],
   "source": [
    "# --- Cargar el Modelo FINAL y los Datos CONTEXTUALES ---\n",
    "MODEL_PATH = '../models/lgbm_final_context_model.pkl'\n",
    "DATA_PATH = '../data/processed/contextual_featured_dataset.csv'\n",
    "\n",
    "model = joblib.load(MODEL_PATH)\n",
    "df = pd.read_csv(DATA_PATH)\n"
   ]
  },
  {
   "cell_type": "code",
   "execution_count": 6,
   "id": "ab1f5bcc",
   "metadata": {},
   "outputs": [],
   "source": [
    "# --- Preparar los Datos para la Predicción ---\n",
    "# Usamos las columnas guardadas para asegurar la consistencia\n",
    "COLUMNS_PATH = '../models/model_columns.json'\n",
    "with open(COLUMNS_PATH, 'r') as f:\n",
    "    model_columns = json.load(f)\n",
    "\n",
    "X = df[model_columns]"
   ]
  },
  {
   "cell_type": "code",
   "execution_count": 7,
   "id": "477bf895",
   "metadata": {},
   "outputs": [],
   "source": [
    "# --- Hacer Predicciones y Calcular Errores ---\n",
    "preds_log = model.predict(X)\n",
    "df['predicted_value'] = np.expm1(preds_log)\n",
    "df['error'] = df['predicted_value'] - df['market_value_in_eur']\n",
    "df['abs_error'] = abs(df['error'])"
   ]
  },
  {
   "cell_type": "code",
   "execution_count": 8,
   "id": "be0812b6",
   "metadata": {},
   "outputs": [
    {
     "name": "stdout",
     "output_type": "stream",
     "text": [
      "\n",
      "--- Top 10 Mayores Errores Absolutos (Modelo FINAL con Contexto) ---\n"
     ]
    },
    {
     "data": {
      "text/html": [
       "<style type=\"text/css\">\n",
       "</style>\n",
       "<table id=\"T_74e47\">\n",
       "  <thead>\n",
       "    <tr>\n",
       "      <th class=\"blank level0\" >&nbsp;</th>\n",
       "      <th id=\"T_74e47_level0_col0\" class=\"col_heading level0 col0\" >name</th>\n",
       "      <th id=\"T_74e47_level0_col1\" class=\"col_heading level0 col1\" >position</th>\n",
       "      <th id=\"T_74e47_level0_col2\" class=\"col_heading level0 col2\" >age</th>\n",
       "      <th id=\"T_74e47_level0_col3\" class=\"col_heading level0 col3\" >market_value_in_eur</th>\n",
       "      <th id=\"T_74e47_level0_col4\" class=\"col_heading level0 col4\" >predicted_value</th>\n",
       "      <th id=\"T_74e47_level0_col5\" class=\"col_heading level0 col5\" >error</th>\n",
       "    </tr>\n",
       "  </thead>\n",
       "  <tbody>\n",
       "    <tr>\n",
       "      <th id=\"T_74e47_level0_row0\" class=\"row_heading level0 row0\" >3561</th>\n",
       "      <td id=\"T_74e47_row0_col0\" class=\"data row0 col0\" >Vinicius Junior</td>\n",
       "      <td id=\"T_74e47_row0_col1\" class=\"data row0 col1\" >Attack</td>\n",
       "      <td id=\"T_74e47_row0_col2\" class=\"data row0 col2\" >24.459959</td>\n",
       "      <td id=\"T_74e47_row0_col3\" class=\"data row0 col3\" >€200,000,000</td>\n",
       "      <td id=\"T_74e47_row0_col4\" class=\"data row0 col4\" >€82,946,600</td>\n",
       "      <td id=\"T_74e47_row0_col5\" class=\"data row0 col5\" >€-117,053,400</td>\n",
       "    </tr>\n",
       "    <tr>\n",
       "      <th id=\"T_74e47_level0_row1\" class=\"row_heading level0 row1\" >5299</th>\n",
       "      <td id=\"T_74e47_row1_col0\" class=\"data row1 col0\" >Florian Wirtz</td>\n",
       "      <td id=\"T_74e47_row1_col1\" class=\"data row1 col1\" >Midfield</td>\n",
       "      <td id=\"T_74e47_row1_col2\" class=\"data row1 col2\" >21.634497</td>\n",
       "      <td id=\"T_74e47_row1_col3\" class=\"data row1 col3\" >€140,000,000</td>\n",
       "      <td id=\"T_74e47_row1_col4\" class=\"data row1 col4\" >€25,746,363</td>\n",
       "      <td id=\"T_74e47_row1_col5\" class=\"data row1 col5\" >€-114,253,637</td>\n",
       "    </tr>\n",
       "    <tr>\n",
       "      <th id=\"T_74e47_level0_row2\" class=\"row_heading level0 row2\" >3221</th>\n",
       "      <td id=\"T_74e47_row2_col0\" class=\"data row2 col0\" >Kylian Mbappé</td>\n",
       "      <td id=\"T_74e47_row2_col1\" class=\"data row2 col1\" >Attack</td>\n",
       "      <td id=\"T_74e47_row2_col2\" class=\"data row2 col2\" >26.250513</td>\n",
       "      <td id=\"T_74e47_row2_col3\" class=\"data row2 col3\" >€170,000,000</td>\n",
       "      <td id=\"T_74e47_row2_col4\" class=\"data row2 col4\" >€59,783,400</td>\n",
       "      <td id=\"T_74e47_row2_col5\" class=\"data row2 col5\" >€-110,216,600</td>\n",
       "    </tr>\n",
       "    <tr>\n",
       "      <th id=\"T_74e47_level0_row3\" class=\"row_heading level0 row3\" >5730</th>\n",
       "      <td id=\"T_74e47_row3_col0\" class=\"data row3 col0\" >Pedri</td>\n",
       "      <td id=\"T_74e47_row3_col1\" class=\"data row3 col1\" >Midfield</td>\n",
       "      <td id=\"T_74e47_row3_col2\" class=\"data row3 col2\" >22.318960</td>\n",
       "      <td id=\"T_74e47_row3_col3\" class=\"data row3 col3\" >€120,000,000</td>\n",
       "      <td id=\"T_74e47_row3_col4\" class=\"data row3 col4\" >€34,485,718</td>\n",
       "      <td id=\"T_74e47_row3_col5\" class=\"data row3 col5\" >€-85,514,282</td>\n",
       "    </tr>\n",
       "    <tr>\n",
       "      <th id=\"T_74e47_level0_row4\" class=\"row_heading level0 row4\" >3410</th>\n",
       "      <td id=\"T_74e47_row4_col0\" class=\"data row4 col0\" >Rodri</td>\n",
       "      <td id=\"T_74e47_row4_col1\" class=\"data row4 col1\" >Midfield</td>\n",
       "      <td id=\"T_74e47_row4_col2\" class=\"data row4 col2\" >28.484600</td>\n",
       "      <td id=\"T_74e47_row4_col3\" class=\"data row4 col3\" >€130,000,000</td>\n",
       "      <td id=\"T_74e47_row4_col4\" class=\"data row4 col4\" >€46,881,878</td>\n",
       "      <td id=\"T_74e47_row4_col5\" class=\"data row4 col5\" >€-83,118,122</td>\n",
       "    </tr>\n",
       "    <tr>\n",
       "      <th id=\"T_74e47_level0_row5\" class=\"row_heading level0 row5\" >5111</th>\n",
       "      <td id=\"T_74e47_row5_col0\" class=\"data row5 col0\" >Cole Palmer</td>\n",
       "      <td id=\"T_74e47_row5_col1\" class=\"data row5 col1\" >Midfield</td>\n",
       "      <td id=\"T_74e47_row5_col2\" class=\"data row5 col2\" >22.614648</td>\n",
       "      <td id=\"T_74e47_row5_col3\" class=\"data row5 col3\" >€130,000,000</td>\n",
       "      <td id=\"T_74e47_row5_col4\" class=\"data row5 col4\" >€49,351,416</td>\n",
       "      <td id=\"T_74e47_row5_col5\" class=\"data row5 col5\" >€-80,648,584</td>\n",
       "    </tr>\n",
       "    <tr>\n",
       "      <th id=\"T_74e47_level0_row6\" class=\"row_heading level0 row6\" >5200</th>\n",
       "      <td id=\"T_74e47_row6_col0\" class=\"data row6 col0\" >Jude Bellingham</td>\n",
       "      <td id=\"T_74e47_row6_col1\" class=\"data row6 col1\" >Midfield</td>\n",
       "      <td id=\"T_74e47_row6_col2\" class=\"data row6 col2\" >21.497604</td>\n",
       "      <td id=\"T_74e47_row6_col3\" class=\"data row6 col3\" >€180,000,000</td>\n",
       "      <td id=\"T_74e47_row6_col4\" class=\"data row6 col4\" >€102,310,331</td>\n",
       "      <td id=\"T_74e47_row6_col5\" class=\"data row6 col5\" >€-77,689,669</td>\n",
       "    </tr>\n",
       "    <tr>\n",
       "      <th id=\"T_74e47_level0_row7\" class=\"row_heading level0 row7\" >3781</th>\n",
       "      <td id=\"T_74e47_row7_col0\" class=\"data row7 col0\" >Moussa Diaby</td>\n",
       "      <td id=\"T_74e47_row7_col1\" class=\"data row7 col1\" >Attack</td>\n",
       "      <td id=\"T_74e47_row7_col2\" class=\"data row7 col2\" >24.889802</td>\n",
       "      <td id=\"T_74e47_row7_col3\" class=\"data row7 col3\" >€55,000,000</td>\n",
       "      <td id=\"T_74e47_row7_col4\" class=\"data row7 col4\" >€128,838,279</td>\n",
       "      <td id=\"T_74e47_row7_col5\" class=\"data row7 col5\" >€73,838,279</td>\n",
       "    </tr>\n",
       "    <tr>\n",
       "      <th id=\"T_74e47_level0_row8\" class=\"row_heading level0 row8\" >3906</th>\n",
       "      <td id=\"T_74e47_row8_col0\" class=\"data row8 col0\" >Phil Foden</td>\n",
       "      <td id=\"T_74e47_row8_col1\" class=\"data row8 col1\" >Attack</td>\n",
       "      <td id=\"T_74e47_row8_col2\" class=\"data row8 col2\" >24.804928</td>\n",
       "      <td id=\"T_74e47_row8_col3\" class=\"data row8 col3\" >€130,000,000</td>\n",
       "      <td id=\"T_74e47_row8_col4\" class=\"data row8 col4\" >€56,390,121</td>\n",
       "      <td id=\"T_74e47_row8_col5\" class=\"data row8 col5\" >€-73,609,879</td>\n",
       "    </tr>\n",
       "    <tr>\n",
       "      <th id=\"T_74e47_level0_row9\" class=\"row_heading level0 row9\" >3412</th>\n",
       "      <td id=\"T_74e47_row9_col0\" class=\"data row9 col0\" >Declan Rice</td>\n",
       "      <td id=\"T_74e47_row9_col1\" class=\"data row9 col1\" >Midfield</td>\n",
       "      <td id=\"T_74e47_row9_col2\" class=\"data row9 col2\" >25.921971</td>\n",
       "      <td id=\"T_74e47_row9_col3\" class=\"data row9 col3\" >€110,000,000</td>\n",
       "      <td id=\"T_74e47_row9_col4\" class=\"data row9 col4\" >€38,603,866</td>\n",
       "      <td id=\"T_74e47_row9_col5\" class=\"data row9 col5\" >€-71,396,134</td>\n",
       "    </tr>\n",
       "  </tbody>\n",
       "</table>\n"
      ],
      "text/plain": [
       "<pandas.io.formats.style.Styler at 0x15ff3cdd490>"
      ]
     },
     "execution_count": 8,
     "metadata": {},
     "output_type": "execute_result"
    }
   ],
   "source": [
    "# --- La Prueba de Fuego: Los 10 Mayores Errores Absolutos (¿Han mejorado?) ---\n",
    "top_10_worst_errors = df.sort_values(by='abs_error', ascending=False).head(10)\n",
    "\n",
    "print(\"\\n--- Top 10 Mayores Errores Absolutos (Modelo FINAL con Contexto) ---\")\n",
    "display_cols = ['name', 'position', 'age', 'market_value_in_eur', 'predicted_value', 'error']\n",
    "top_10_worst_errors[display_cols].style.format({\n",
    "    'market_value_in_eur': \"€{:,.0f}\",\n",
    "    'predicted_value': \"€{:,.0f}\",\n",
    "    'error': \"€{:,.0f}\"\n",
    "})"
   ]
  }
 ],
 "metadata": {
  "kernelspec": {
   "display_name": "venv",
   "language": "python",
   "name": "python3"
  },
  "language_info": {
   "codemirror_mode": {
    "name": "ipython",
    "version": 3
   },
   "file_extension": ".py",
   "mimetype": "text/x-python",
   "name": "python",
   "nbconvert_exporter": "python",
   "pygments_lexer": "ipython3",
   "version": "3.12.6"
  }
 },
 "nbformat": 4,
 "nbformat_minor": 5
}
