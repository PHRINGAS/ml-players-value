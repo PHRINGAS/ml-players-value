{
 "cells": [
  {
   "cell_type": "code",
   "execution_count": 1,
   "id": "db5d57ec",
   "metadata": {},
   "outputs": [],
   "source": [
    "import pandas as pd\n",
    "import numpy as np"
   ]
  },
  {
   "cell_type": "code",
   "execution_count": 2,
   "id": "01de3c37",
   "metadata": {},
   "outputs": [
    {
     "name": "stdout",
     "output_type": "stream",
     "text": [
      "Datos cargados. Dimensiones del dataset principal: (6280, 25)\n"
     ]
    }
   ],
   "source": [
    "# --- Cargar los datos necesarios ---\n",
    "FEATURED_DATA_PATH = '../data/processed/featured_player_dataset.csv'\n",
    "df = pd.read_csv(FEATURED_DATA_PATH)\n",
    "\n",
    "RAW_DATA_DIR = '../data/raw/davidcariboo_dataset/'\n",
    "valuations_df = pd.read_csv(f'{RAW_DATA_DIR}player_valuations.csv')\n",
    "competitions_df = pd.read_csv(f'{RAW_DATA_DIR}competitions.csv')\n",
    "\n",
    "print(\"Datos cargados. Dimensiones del dataset principal:\", df.shape)"
   ]
  },
  {
   "cell_type": "code",
   "execution_count": 3,
   "id": "cd2efb92",
   "metadata": {},
   "outputs": [
    {
     "name": "stdout",
     "output_type": "stream",
     "text": [
      "\n",
      "--- DIAGNÓSTICO ---\n",
      "Columnas disponibles en 'valuations_df': ['player_id', 'date', 'market_value_in_eur', 'current_club_id', 'player_club_domestic_competition_id']\n"
     ]
    }
   ],
   "source": [
    "# --- Diagnóstico: Encontrar el nombre de columna correcto ---\n",
    "# Vamos a verificar el nombre exacto de la columna de la competición en el archivo de valoraciones.\n",
    "print(\"\\n--- DIAGNÓSTICO ---\")\n",
    "print(\"Columnas disponibles en 'valuations_df':\", valuations_df.columns.tolist())\n",
    "# El nombre que buscamos es 'player_club_domestic_competition_id'. Si es diferente, lo veremos aquí."
   ]
  },
  {
   "cell_type": "code",
   "execution_count": 4,
   "id": "bc396abc",
   "metadata": {},
   "outputs": [
    {
     "name": "stdout",
     "output_type": "stream",
     "text": [
      "\n",
      "Feature 'league_strength_factor' creada exitosamente.\n",
      "\n",
      "Validación del factor de fuerza de liga:\n",
      "                     name competition_name  league_strength_factor\n",
      "2821  Gaetano Castrovilli          serie-a                    0.88\n",
      "5366           James Hill   premier-league                    1.00\n",
      "4789         Roger Ibañez          serie-a                    0.88\n",
      "5678             Chermiti   premier-league                    1.00\n",
      "713   Stephan El Shaarawy          serie-a                    0.88\n"
     ]
    }
   ],
   "source": [
    "# =============================================================================\n",
    "# Feature 1: Fuerza de la Liga (League Strength Factor)\n",
    "# =============================================================================\n",
    "\n",
    "# --- Paso 1: Crear el mapa de fuerza de las ligas ---\n",
    "league_strength_map = {\n",
    "    'premier-league':   1.00,\n",
    "    'laliga':           0.90,\n",
    "    'serie-a':          0.88,\n",
    "    'bundesliga':       0.87,\n",
    "    'ligue-1':          0.80,\n",
    "    'liga-nos':         0.78,\n",
    "    'eredivisie':       0.76,\n",
    "    'super-lig':        0.68,\n",
    "    'jupiler-pro-league': 0.65,\n",
    "    'premier-liga':     0.50\n",
    "}\n",
    "\n",
    "# --- Paso 2: Obtener la información más reciente de valoración (incluida la liga) ---\n",
    "valuations_df['date'] = pd.to_datetime(valuations_df['date'])\n",
    "latest_valuations = valuations_df.sort_values(by='date', ascending=False).drop_duplicates(subset='player_id')\n",
    "\n",
    "# --- ¡¡¡CORRECCIÓN CLAVE!!! ---\n",
    "# Definimos el nombre de la columna que vamos a añadir.\n",
    "COMPETITION_ID_COL = 'player_club_domestic_competition_id'\n",
    "\n",
    "# --- Paso 3: Unir la información de la liga a nuestro dataframe principal ---\n",
    "# Solo unimos las columnas que necesitamos: el ID del jugador y el ID de su competición.\n",
    "df = pd.merge(\n",
    "    df,\n",
    "    latest_valuations[['player_id', COMPETITION_ID_COL]],\n",
    "    on='player_id',\n",
    "    how='left'\n",
    ")\n",
    "\n",
    "# --- Paso 4: Mapear el ID de la competición al nombre y luego al factor de fuerza ---\n",
    "competition_id_to_name_map = competitions_df.set_index('competition_id')['name'].to_dict()\n",
    "# Usamos la variable COMPETITION_ID_COL para asegurar que no hay errores de tipeo.\n",
    "df['competition_name'] = df[COMPETITION_ID_COL].map(competition_id_to_name_map)\n",
    "df['league_strength_factor'] = df['competition_name'].map(league_strength_map).fillna(0.4)\n",
    "\n",
    "print(\"\\nFeature 'league_strength_factor' creada exitosamente.\")\n",
    "\n",
    "# --- Paso 5: Validar el resultado ---\n",
    "print(\"\\nValidación del factor de fuerza de liga:\")\n",
    "validation_df = df[df['competition_name'].isin(['premier-league', 'serie-a', 'super-lig'])]\n",
    "print(validation_df[['name', 'competition_name', 'league_strength_factor']].sample(5, random_state=1))"
   ]
  },
  {
   "cell_type": "code",
   "execution_count": 5,
   "id": "44feb68d",
   "metadata": {},
   "outputs": [
    {
     "name": "stdout",
     "output_type": "stream",
     "text": [
      "\n",
      "Feature 'club_tier' creada exitosamente.\n",
      "\n",
      "Validación del Tier de Clubes:\n",
      "                name current_club_name  club_tier\n",
      "1037  Nathan Redmond        Burnley FC          0\n"
     ]
    }
   ],
   "source": [
    "# =============================================================================\n",
    "# Feature 2: Prestigio del Club (Club Tier)\n",
    "# =============================================================================\n",
    "tier1_clubs = [\n",
    "    'Real Madrid', 'FC Barcelona', 'Atlético de Madrid', 'Manchester City', 'Liverpool FC',\n",
    "    'Arsenal FC', 'Manchester United', 'Chelsea FC', 'Bayern Munich', 'Borussia Dortmund',\n",
    "    'Bayer 04 Leverkusen', 'Juventus FC', 'Inter Milan', 'AC Milan', 'Paris Saint-Germain',\n",
    "    'AFC Ajax', 'FC Porto', 'SL Benfica'\n",
    "]\n",
    "df['club_tier'] = df['current_club_name'].apply(lambda name: 1 if name in tier1_clubs else 0)\n",
    "print(\"\\nFeature 'club_tier' creada exitosamente.\")\n",
    "\n",
    "# --- Validación ---\n",
    "print(\"\\nValidación del Tier de Clubes:\")\n",
    "validation_clubs = ['Manchester City', 'Real Madrid', 'Burnley FC', 'Getafe CF', 'AC Milan']\n",
    "club_tier_validation = df[df['current_club_name'].isin(validation_clubs)]\n",
    "print(club_tier_validation[['name', 'current_club_name', 'club_tier']].drop_duplicates('current_club_name'))"
   ]
  },
  {
   "cell_type": "code",
   "execution_count": 6,
   "id": "2574fd30",
   "metadata": {},
   "outputs": [
    {
     "name": "stdout",
     "output_type": "stream",
     "text": [
      "\n",
      "Dataset con features contextuales guardado en: ../data/processed/contextual_featured_dataset.csv\n",
      "Dimensiones finales del dataset: (6280, 27)\n"
     ]
    }
   ],
   "source": [
    "# --- Limpieza Final y Guardado ---\n",
    "# Eliminamos columnas intermedias que ya no necesitamos para el modelado\n",
    "cols_to_drop = ['player_club_domestic_competition_id', 'competition_name']\n",
    "df = df.drop(columns=cols_to_drop)\n",
    "\n",
    "OUTPUT_PATH = '../data/processed/contextual_featured_dataset.csv'\n",
    "df.to_csv(OUTPUT_PATH, index=False)\n",
    "print(f\"\\nDataset con features contextuales guardado en: {OUTPUT_PATH}\")\n",
    "print(f\"Dimensiones finales del dataset: {df.shape}\")"
   ]
  }
 ],
 "metadata": {
  "kernelspec": {
   "display_name": "venv",
   "language": "python",
   "name": "python3"
  },
  "language_info": {
   "codemirror_mode": {
    "name": "ipython",
    "version": 3
   },
   "file_extension": ".py",
   "mimetype": "text/x-python",
   "name": "python",
   "nbconvert_exporter": "python",
   "pygments_lexer": "ipython3",
   "version": "3.12.6"
  }
 },
 "nbformat": 4,
 "nbformat_minor": 5
}
