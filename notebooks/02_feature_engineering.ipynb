{
 "cells": [
  {
   "cell_type": "code",
   "execution_count": 1,
   "id": "e98bb56d",
   "metadata": {},
   "outputs": [],
   "source": [
    "# %%\n",
    "import pandas as pd\n",
    "import numpy as np\n",
    "import matplotlib.pyplot as plt\n",
    "import seaborn as sns"
   ]
  },
  {
   "cell_type": "code",
   "execution_count": 2,
   "id": "c8730d72",
   "metadata": {},
   "outputs": [
    {
     "name": "stdout",
     "output_type": "stream",
     "text": [
      "Dataset maestro cargado. Dimensiones: (6280, 16)\n",
      "<class 'pandas.core.frame.DataFrame'>\n",
      "RangeIndex: 6280 entries, 0 to 6279\n",
      "Data columns (total 16 columns):\n",
      " #   Column                    Non-Null Count  Dtype  \n",
      "---  ------                    --------------  -----  \n",
      " 0   player_id                 6280 non-null   int64  \n",
      " 1   name                      6280 non-null   object \n",
      " 2   age                       6280 non-null   float64\n",
      " 3   position                  6280 non-null   object \n",
      " 4   sub_position              6280 non-null   object \n",
      " 5   foot                      6198 non-null   object \n",
      " 6   height_in_cm              6228 non-null   float64\n",
      " 7   country_of_citizenship    6084 non-null   object \n",
      " 8   current_club_name         6280 non-null   object \n",
      " 9   contract_expiration_date  5504 non-null   object \n",
      " 10  goals                     6280 non-null   int64  \n",
      " 11  assists                   6280 non-null   int64  \n",
      " 12  minutes_played            6280 non-null   int64  \n",
      " 13  games_played              6280 non-null   int64  \n",
      " 14  valuation_date            6280 non-null   object \n",
      " 15  market_value_in_eur       6280 non-null   int64  \n",
      "dtypes: float64(2), int64(6), object(8)\n",
      "memory usage: 785.1+ KB\n"
     ]
    }
   ],
   "source": [
    "# --- Cargar nuestro dataset maestro, la única fuente de verdad ---\n",
    "DATA_PATH = '../data/processed/master_player_dataset.csv'\n",
    "df = pd.read_csv(DATA_PATH)\n",
    "\n",
    "print(\"Dataset maestro cargado. Dimensiones:\", df.shape)\n",
    "df.info()\n"
   ]
  },
  {
   "cell_type": "code",
   "execution_count": 3,
   "id": "e95ed40d",
   "metadata": {},
   "outputs": [
    {
     "name": "stdout",
     "output_type": "stream",
     "text": [
      "\n",
      "Features 'por 90 minutos' creadas.\n",
      "                  name  minutes_played  goals  goals_per_90\n",
      "0         James Milner            1231      0      0.000000\n",
      "1   Zlatan Ibrahimović             144      1      0.625000\n",
      "2   Christophe Lepoint            1756      1      0.051253\n",
      "3  Anastasios Tsokanis            1315      3      0.205323\n",
      "4        Jonas Hofmann            2738     12      0.394449\n"
     ]
    }
   ],
   "source": [
    "# =============================================================================\n",
    "# 1. Features de Rendimiento Normalizadas\n",
    "# =============================================================================\n",
    "# Las métricas brutas (goles, asistencias) son engañosas. \n",
    "# Un jugador con 10 goles en 3000 minutos es diferente a uno con 10 goles en 1000 minutos.\n",
    "# Normalizamos por cada 90 minutos jugados.\n",
    "\n",
    "df['minutes_per_90'] = df['minutes_played'] / 90\n",
    "\n",
    "# Evitar división por cero si un jugador tiene 0 minutos (aunque ya filtramos > 90)\n",
    "df['goals_per_90'] = df['goals'] / df['minutes_per_90']\n",
    "df['assists_per_90'] = df['assists'] / df['minutes_per_90']\n",
    "df['goals_plus_assists_per_90'] = (df['goals'] + df['assists']) / df['minutes_per_90']\n",
    "\n",
    "# Llenar posibles NaNs o Infs si 'minutes_per_90' es 0\n",
    "df.replace([np.inf, -np.inf], np.nan, inplace=True)\n",
    "df[['goals_per_90', 'assists_per_90', 'goals_plus_assists_per_90']] = df[['goals_per_90', 'assists_per_90', 'goals_plus_assists_per_90']].fillna(0)\n",
    "\n",
    "print(\"\\nFeatures 'por 90 minutos' creadas.\")\n",
    "print(df[['name', 'minutes_played', 'goals', 'goals_per_90']].head())"
   ]
  },
  {
   "cell_type": "code",
   "execution_count": 4,
   "id": "0f77a69b",
   "metadata": {},
   "outputs": [
    {
     "name": "stdout",
     "output_type": "stream",
     "text": [
      "\n",
      "Feature 'contract_months_remaining' creada.\n",
      "                  name valuation_date contract_expiration_date  \\\n",
      "0         James Milner     2024-12-16               2025-06-30   \n",
      "1   Zlatan Ibrahimović     2023-06-15                      NaT   \n",
      "2   Christophe Lepoint     2023-06-09               2024-06-30   \n",
      "3  Anastasios Tsokanis     2024-12-18               2025-06-30   \n",
      "4        Jonas Hofmann     2025-03-27               2027-06-30   \n",
      "\n",
      "   contract_months_remaining  \n",
      "0                   6.438896  \n",
      "1                   0.000000  \n",
      "2                  12.713535  \n",
      "3                   6.373193  \n",
      "4                  27.102497  \n"
     ]
    }
   ],
   "source": [
    "# =============================================================================\n",
    "# 2. Features de Contrato y Mercado\n",
    "# =============================================================================\n",
    "# La duración restante del contrato es un factor clave en el valor de mercado.\n",
    "# Un jugador con 6 meses de contrato vale menos porque puede irse gratis pronto.\n",
    "\n",
    "df['contract_expiration_date'] = pd.to_datetime(df['contract_expiration_date'], errors='coerce')\n",
    "df['valuation_date'] = pd.to_datetime(df['valuation_date'])\n",
    "\n",
    "# Calcular meses restantes de contrato en el momento de la valoración\n",
    "df['contract_months_remaining'] = (df['contract_expiration_date'] - df['valuation_date']).dt.days / 30.44\n",
    "# Si el contrato ya expiró (valor negativo) o no hay fecha, lo tratamos como 0.\n",
    "df['contract_months_remaining'] = df['contract_months_remaining'].fillna(0).clip(lower=0)\n",
    "\n",
    "print(\"\\nFeature 'contract_months_remaining' creada.\")\n",
    "print(df[['name', 'valuation_date', 'contract_expiration_date', 'contract_months_remaining']].head())"
   ]
  },
  {
   "cell_type": "code",
   "execution_count": 5,
   "id": "13415888",
   "metadata": {},
   "outputs": [
    {
     "name": "stdout",
     "output_type": "stream",
     "text": [
      "\n",
      "Variables categóricas codificadas. Nuevas dimensiones: (6280, 25)\n",
      "<class 'pandas.core.frame.DataFrame'>\n",
      "RangeIndex: 6280 entries, 0 to 6279\n",
      "Data columns (total 25 columns):\n",
      " #   Column                      Non-Null Count  Dtype         \n",
      "---  ------                      --------------  -----         \n",
      " 0   player_id                   6280 non-null   int64         \n",
      " 1   name                        6280 non-null   object        \n",
      " 2   age                         6280 non-null   float64       \n",
      " 3   position                    6280 non-null   object        \n",
      " 4   sub_position                6280 non-null   object        \n",
      " 5   height_in_cm                6228 non-null   float64       \n",
      " 6   country_of_citizenship      6084 non-null   object        \n",
      " 7   current_club_name           6280 non-null   object        \n",
      " 8   contract_expiration_date    5504 non-null   datetime64[ns]\n",
      " 9   goals                       6280 non-null   int64         \n",
      " 10  assists                     6280 non-null   int64         \n",
      " 11  minutes_played              6280 non-null   int64         \n",
      " 12  games_played                6280 non-null   int64         \n",
      " 13  valuation_date              6280 non-null   datetime64[ns]\n",
      " 14  market_value_in_eur         6280 non-null   int64         \n",
      " 15  minutes_per_90              6280 non-null   float64       \n",
      " 16  goals_per_90                6280 non-null   float64       \n",
      " 17  assists_per_90              6280 non-null   float64       \n",
      " 18  goals_plus_assists_per_90   6280 non-null   float64       \n",
      " 19  contract_months_remaining   6280 non-null   float64       \n",
      " 20  position_simple_Mediocampo  6280 non-null   bool          \n",
      " 21  position_simple_Ofensivo    6280 non-null   bool          \n",
      " 22  position_simple_Portero     6280 non-null   bool          \n",
      " 23  foot_left                   6280 non-null   bool          \n",
      " 24  foot_right                  6280 non-null   bool          \n",
      "dtypes: bool(5), datetime64[ns](2), float64(7), int64(6), object(5)\n",
      "memory usage: 1012.0+ KB\n"
     ]
    }
   ],
   "source": [
    "# 3. Codificación de Variables Categóricas\n",
    "# =============================================================================\n",
    "# Los modelos de ML necesitan números, no texto. Convertiremos las posiciones y el pie preferido.\n",
    "# Usaremos One-Hot Encoding (pd.get_dummies).\n",
    "\n",
    "# Primero, simplifiquemos las posiciones para evitar demasiadas columnas\n",
    "df['position_simple'] = df['position'].replace({\n",
    "    'Attack': 'Ofensivo', 'Midfield': 'Mediocampo', \n",
    "    'Defender': 'Defensa', 'Goalkeeper': 'Portero'\n",
    "})\n",
    "\n",
    "categorical_features = ['position_simple', 'foot']\n",
    "df_encoded = pd.get_dummies(df, columns=categorical_features, prefix=categorical_features, drop_first=True)\n",
    "\n",
    "print(f\"\\nVariables categóricas codificadas. Nuevas dimensiones: {df_encoded.shape}\")\n",
    "df_encoded.info()"
   ]
  },
  {
   "cell_type": "code",
   "execution_count": 6,
   "id": "8d4fee00",
   "metadata": {},
   "outputs": [
    {
     "name": "stdout",
     "output_type": "stream",
     "text": [
      "\n",
      "--- Vista Previa Final ---\n",
      "                  name  market_value_in_eur        age  goals_per_90  \\\n",
      "0         James Milner              1000000  38.948665      0.000000   \n",
      "1   Zlatan Ibrahimović              2000000  41.697467      0.625000   \n",
      "2   Christophe Lepoint                50000  38.622861      0.051253   \n",
      "3  Anastasios Tsokanis               300000  33.631759      0.205323   \n",
      "4        Jonas Hofmann              3000000  32.700890      0.394449   \n",
      "\n",
      "   contract_months_remaining  position_simple_Ofensivo  \\\n",
      "0                   6.438896                     False   \n",
      "1                   0.000000                      True   \n",
      "2                  12.713535                     False   \n",
      "3                   6.373193                     False   \n",
      "4                  27.102497                     False   \n",
      "\n",
      "   position_simple_Portero  \n",
      "0                    False  \n",
      "1                    False  \n",
      "2                    False  \n",
      "3                    False  \n",
      "4                    False  \n"
     ]
    }
   ],
   "source": [
    "# --- Vista Previa del Dataset Enriquecido ---\n",
    "print(\"\\n--- Vista Previa Final ---\")\n",
    "# Mostramos algunas de las columnas nuevas y antiguas\n",
    "preview_cols = [\n",
    "    'name', 'market_value_in_eur', 'age', 'goals_per_90', \n",
    "    'contract_months_remaining', 'position_simple_Ofensivo', \n",
    "    'position_simple_Portero', 'foot_Right'\n",
    "]\n",
    "# Filtrar para asegurarse de que las columnas existen\n",
    "preview_cols_exist = [col for col in preview_cols if col in df_encoded.columns]\n",
    "print(df_encoded[preview_cols_exist].head())"
   ]
  },
  {
   "cell_type": "code",
   "execution_count": 7,
   "id": "1c845c22",
   "metadata": {},
   "outputs": [
    {
     "name": "stdout",
     "output_type": "stream",
     "text": [
      "Dataset enriquecido guardado en: ../data/processed/featured_player_dataset.csv\n"
     ]
    }
   ],
   "source": [
    "# --- Guardar el dataset enriquecido para el siguiente paso ---\n",
    "OUTPUT_PATH = '../data/processed/featured_player_dataset.csv'\n",
    "df_encoded.to_csv(OUTPUT_PATH, index=False)\n",
    "print(f\"Dataset enriquecido guardado en: {OUTPUT_PATH}\")"
   ]
  }
 ],
 "metadata": {
  "kernelspec": {
   "display_name": "venv",
   "language": "python",
   "name": "python3"
  },
  "language_info": {
   "codemirror_mode": {
    "name": "ipython",
    "version": 3
   },
   "file_extension": ".py",
   "mimetype": "text/x-python",
   "name": "python",
   "nbconvert_exporter": "python",
   "pygments_lexer": "ipython3",
   "version": "3.12.6"
  }
 },
 "nbformat": 4,
 "nbformat_minor": 5
}
