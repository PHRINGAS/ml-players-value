{
 "cells": [
  {
   "cell_type": "code",
   "execution_count": 1,
   "id": "1ecb37f3",
   "metadata": {},
   "outputs": [],
   "source": [
    "import pandas as pd\n",
    "import numpy as np\n",
    "import lightgbm as lgb\n",
    "from sklearn.model_selection import train_test_split\n",
    "from sklearn.metrics import mean_absolute_error"
   ]
  },
  {
   "cell_type": "code",
   "execution_count": 2,
   "id": "0a539b13",
   "metadata": {},
   "outputs": [
    {
     "name": "stdout",
     "output_type": "stream",
     "text": [
      "Dataset enriquecido cargado. Dimensiones: (6280, 25)\n",
      "<class 'pandas.core.frame.DataFrame'>\n",
      "RangeIndex: 6280 entries, 0 to 6279\n",
      "Data columns (total 25 columns):\n",
      " #   Column                      Non-Null Count  Dtype  \n",
      "---  ------                      --------------  -----  \n",
      " 0   player_id                   6280 non-null   int64  \n",
      " 1   name                        6280 non-null   object \n",
      " 2   age                         6280 non-null   float64\n",
      " 3   position                    6280 non-null   object \n",
      " 4   sub_position                6280 non-null   object \n",
      " 5   height_in_cm                6228 non-null   float64\n",
      " 6   country_of_citizenship      6084 non-null   object \n",
      " 7   current_club_name           6280 non-null   object \n",
      " 8   contract_expiration_date    5504 non-null   object \n",
      " 9   goals                       6280 non-null   int64  \n",
      " 10  assists                     6280 non-null   int64  \n",
      " 11  minutes_played              6280 non-null   int64  \n",
      " 12  games_played                6280 non-null   int64  \n",
      " 13  valuation_date              6280 non-null   object \n",
      " 14  market_value_in_eur         6280 non-null   int64  \n",
      " 15  minutes_per_90              6280 non-null   float64\n",
      " 16  goals_per_90                6280 non-null   float64\n",
      " 17  assists_per_90              6280 non-null   float64\n",
      " 18  goals_plus_assists_per_90   6280 non-null   float64\n",
      " 19  contract_months_remaining   6280 non-null   float64\n",
      " 20  position_simple_Mediocampo  6280 non-null   bool   \n",
      " 21  position_simple_Ofensivo    6280 non-null   bool   \n",
      " 22  position_simple_Portero     6280 non-null   bool   \n",
      " 23  foot_left                   6280 non-null   bool   \n",
      " 24  foot_right                  6280 non-null   bool   \n",
      "dtypes: bool(5), float64(7), int64(6), object(7)\n",
      "memory usage: 1012.0+ KB\n"
     ]
    }
   ],
   "source": [
    "# --- Cargar el dataset ENRIQUECIDO ---\n",
    "DATA_PATH = '../data/processed/featured_player_dataset.csv'\n",
    "df = pd.read_csv(DATA_PATH)\n",
    "\n",
    "print(\"Dataset enriquecido cargado. Dimensiones:\", df.shape)\n",
    "df.info()\n"
   ]
  },
  {
   "cell_type": "code",
   "execution_count": 3,
   "id": "b9dc1365",
   "metadata": {},
   "outputs": [
    {
     "name": "stdout",
     "output_type": "stream",
     "text": [
      "Número de features seleccionadas: 7\n",
      "Features: ['age', 'height_in_cm', 'minutes_per_90', 'goals_per_90', 'assists_per_90', 'goals_plus_assists_per_90', 'contract_months_remaining']\n"
     ]
    }
   ],
   "source": [
    "# =============================================================================\n",
    "# 1. Definir Features (X) y Target (y)\n",
    "# =============================================================================\n",
    "\n",
    "# El target sigue siendo el mismo\n",
    "TARGET = 'market_value_in_eur'\n",
    "\n",
    "# Las features son todas las columnas numéricas EXCEPTO el target y los IDs\n",
    "# También excluimos features \"brutas\" que ya hemos normalizado\n",
    "cols_to_exclude = [\n",
    "    'player_id', TARGET, 'goals', 'assists', 'minutes_played', 'games_played', # IDs y features brutas\n",
    "    # Columnas de texto o fecha que no son features directas\n",
    "    'name', 'position', 'sub_position', 'country_of_citizenship', \n",
    "    'current_club_name', 'contract_expiration_date', 'valuation_date'\n",
    "]\n",
    "\n",
    "features = [col for col in df.columns if col not in cols_to_exclude]\n",
    "\n",
    "# Asegurarnos de que todas las features son numéricas\n",
    "X = df[features].select_dtypes(include=np.number)\n",
    "y = df[TARGET]\n",
    "\n",
    "# Aplicamos la transformación logarítmica que ya conocemos\n",
    "y_log = np.log1p(y)\n",
    "\n",
    "print(f\"Número de features seleccionadas: {len(X.columns)}\")\n",
    "print(\"Features:\", X.columns.tolist())"
   ]
  },
  {
   "cell_type": "code",
   "execution_count": 4,
   "id": "ea15b220",
   "metadata": {},
   "outputs": [
    {
     "name": "stdout",
     "output_type": "stream",
     "text": [
      "\n",
      "Entrenando modelo LightGBM...\n",
      "[LightGBM] [Info] Auto-choosing col-wise multi-threading, the overhead of testing was 0.000241 seconds.\n",
      "You can set `force_col_wise=true` to remove the overhead.\n",
      "[LightGBM] [Info] Total Bins 1566\n",
      "[LightGBM] [Info] Number of data points in the train set: 5024, number of used features: 7\n",
      "[LightGBM] [Info] Start training from score 14.224265\n",
      "Entrenamiento completado.\n"
     ]
    }
   ],
   "source": [
    "# =============================================================================\n",
    "# 2. Entrenar el Modelo LightGBM\n",
    "# =============================================================================\n",
    "\n",
    "# Dividir los datos en entrenamiento y prueba\n",
    "X_train, X_test, y_train_log, y_test_log = train_test_split(X, y_log, test_size=0.2, random_state=42)\n",
    "\n",
    "# Instanciar el modelo LightGBM Regressor\n",
    "# Usamos parámetros básicos por ahora. La optimización vendrá después.\n",
    "lgbm = lgb.LGBMRegressor(random_state=42)\n",
    "\n",
    "print(\"\\nEntrenando modelo LightGBM...\")\n",
    "lgbm.fit(X_train, y_train_log)\n",
    "print(\"Entrenamiento completado.\")\n"
   ]
  },
  {
   "cell_type": "code",
   "execution_count": 5,
   "id": "9395bf31",
   "metadata": {},
   "outputs": [
    {
     "name": "stdout",
     "output_type": "stream",
     "text": [
      "\n",
      "--- ¡Resultados de la Evaluación! ---\n",
      "MAE Baseline (Ridge): €3,982,015\n",
      "MAE Nuevo Modelo (LightGBM): €3,237,352\n",
      "\n",
      "--- Comparación ---\n",
      "¡Mejora conseguida! El nuevo modelo es €744,663 más preciso.\n",
      "Esto representa una reducción del error del 18.70%.\n"
     ]
    }
   ],
   "source": [
    "# =============================================================================\n",
    "# 3. Evaluar y Comparar con el Baseline\n",
    "# =============================================================================\n",
    "\n",
    "# Predecir en la escala logarítmica\n",
    "preds_log = lgbm.predict(X_test)\n",
    "\n",
    "# Revertir la transformación para interpretar el error en Euros\n",
    "y_test_eur = np.expm1(y_test_log)\n",
    "preds_eur = np.expm1(preds_log)\n",
    "\n",
    "# Calcular métricas\n",
    "mae_lgbm = mean_absolute_error(y_test_eur, preds_eur)\n",
    "baseline_mae = 3982015  # El resultado de nuestro notebook anterior\n",
    "\n",
    "print(\"\\n--- ¡Resultados de la Evaluación! ---\")\n",
    "print(f\"MAE Baseline (Ridge): €{baseline_mae:,.0f}\")\n",
    "print(f\"MAE Nuevo Modelo (LightGBM): €{mae_lgbm:,.0f}\")\n",
    "\n",
    "improvement = baseline_mae - mae_lgbm\n",
    "improvement_percent = (improvement / baseline_mae) * 100\n",
    "\n",
    "print(\"\\n--- Comparación ---\")\n",
    "if improvement > 0:\n",
    "    print(f\"¡Mejora conseguida! El nuevo modelo es €{improvement:,.0f} más preciso.\")\n",
    "    print(f\"Esto representa una reducción del error del {improvement_percent:.2f}%.\")\n",
    "else:\n",
    "    print(f\"No se ha conseguido una mejora. El nuevo modelo es €{-improvement:,.0f} menos preciso.\")"
   ]
  },
  {
   "cell_type": "code",
   "execution_count": 6,
   "id": "c7af0e1a",
   "metadata": {},
   "outputs": [
    {
     "name": "stdout",
     "output_type": "stream",
     "text": [
      "\n",
      "--- Analizando la Importancia de las Características ---\n"
     ]
    },
    {
     "name": "stderr",
     "output_type": "stream",
     "text": [
      "C:\\Users\\Manu\\AppData\\Local\\Temp\\ipykernel_24100\\862753581.py:20: FutureWarning: \n",
      "\n",
      "Passing `palette` without assigning `hue` is deprecated and will be removed in v0.14.0. Assign the `y` variable to `hue` and set `legend=False` for the same effect.\n",
      "\n",
      "  sns.barplot(x='importance', y='feature', data=top_15_features, palette='viridis')\n"
     ]
    },
    {
     "data": {
      "image/png": "[encoded data removed]",
      "text/plain": [
       "<Figure size 1200x800 with 1 Axes>"
      ]
     },
     "metadata": {},
     "output_type": "display_data"
    },
    {
     "name": "stdout",
     "output_type": "stream",
     "text": [
      "\n",
      "Top 10 características más influyentes:\n",
      "                     feature  importance\n",
      "6  contract_months_remaining        1031\n",
      "0                        age         516\n",
      "2             minutes_per_90         506\n",
      "1               height_in_cm         295\n",
      "5  goals_plus_assists_per_90         284\n",
      "4             assists_per_90         197\n",
      "3               goals_per_90         171\n"
     ]
    }
   ],
   "source": [
    "# =============================================================================\n",
    "# 4. Analizar la Importancia de las Características\n",
    "# =============================================================================\n",
    "import matplotlib.pyplot as plt\n",
    "import seaborn as sns\n",
    "\n",
    "print(\"\\n--- Analizando la Importancia de las Características ---\")\n",
    "\n",
    "# Crear un DataFrame con la importancia de cada feature\n",
    "feature_importances = pd.DataFrame({\n",
    "    'feature': X_train.columns,\n",
    "    'importance': lgbm.feature_importances_,\n",
    "}).sort_values('importance', ascending=False)\n",
    "\n",
    "# Mostrar las 15 más importantes\n",
    "top_15_features = feature_importances.head(15)\n",
    "\n",
    "# Visualizar\n",
    "plt.figure(figsize=(12, 8))\n",
    "sns.barplot(x='importance', y='feature', data=top_15_features, palette='viridis')\n",
    "plt.title('Top 15 Características Más Importantes (LightGBM)')\n",
    "plt.xlabel('Importancia')\n",
    "plt.ylabel('Característica')\n",
    "plt.tight_layout()\n",
    "plt.show()\n",
    "\n",
    "# Imprimir el top 10 para referencia\n",
    "print(\"\\nTop 10 características más influyentes:\")\n",
    "print(top_15_features)"
   ]
  }
 ],
 "metadata": {
  "kernelspec": {
   "display_name": "venv",
   "language": "python",
   "name": "python3"
  },
  "language_info": {
   "codemirror_mode": {
    "name": "ipython",
    "version": 3
   },
   "file_extension": ".py",
   "mimetype": "text/x-python",
   "name": "python",
   "nbconvert_exporter": "python",
   "pygments_lexer": "ipython3",
   "version": "3.12.6"
  }
 },
 "nbformat": 4,
 "nbformat_minor": 5
}
